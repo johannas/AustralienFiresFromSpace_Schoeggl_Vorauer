{
 "cells": [
  {
   "cell_type": "markdown",
   "metadata": {},
   "source": [
    "## Fires Cleaning Notebook ##"
   ]
  },
  {
   "cell_type": "markdown",
   "metadata": {},
   "source": [
    "Schoeggl_Vorauer 2020"
   ]
  },
  {
   "cell_type": "markdown",
   "metadata": {},
   "source": [
    "cleaning firedata\n",
    "\n",
    "DatasetLink: "
   ]
  },
  {
   "cell_type": "code",
   "execution_count": 3,
   "metadata": {},
   "outputs": [],
   "source": [
    "from Function_Definitions import *\n",
    "import pandas as pd\n",
    "import numpy as np\n",
    "import reverse_geocoder as rg\n",
    "import matplotlib.pyplot as plt\n",
    "from geopy.extra.rate_limiter import RateLimiter \n",
    "import swifter # swifter is for multiprocessing pandas apply functions"
   ]
  },
  {
   "cell_type": "code",
   "execution_count": 4,
   "metadata": {},
   "outputs": [],
   "source": [
    "#import all MODISC6 and VIIRS 375m NASA Satellite Archive Data \n",
    "allmodis = pd.read_csv(r'..\\Data\\Raw\\archive_M6.csv').drop(['acq_time', 'satellite', 'instrument', 'version', 'daynight', 'type','scan','track'], 1)\n",
    "allviirs = pd.read_csv(r'..\\Data\\Raw\\archive_V1.csv').drop(['acq_time', 'satellite', 'instrument', 'version', 'type','scan','track'], 1)"
   ]
  },
  {
   "cell_type": "code",
   "execution_count": 5,
   "metadata": {},
   "outputs": [],
   "source": [
    "#import all MODISC6 and VIIRS 375m NASA Satellite NearRealTime Data \n",
    "nrtmodis = pd.read_csv(r'..\\Data\\Raw\\nrt_M6.csv').drop(['acq_time', 'satellite', 'instrument', 'version', 'daynight','scan','track'], 1)\n",
    "nrtviirs = pd.read_csv(r'..\\Data\\Raw\\nrt_V1.csv').drop(['acq_time', 'satellite', 'instrument', 'version', 'daynight','scan','track'], 1)"
   ]
  },
  {
   "cell_type": "code",
   "execution_count": 6,
   "metadata": {},
   "outputs": [],
   "source": [
    "#call datetime function from Funktion_Definitions file\n",
    "allmodis = datetime(allmodis)\n",
    "allviirs = datetime(allviirs)\n",
    "nrtmodis = datetime(nrtmodis)\n",
    "nrtviirs = datetime(nrtviirs)"
   ]
  },
  {
   "cell_type": "code",
   "execution_count": 7,
   "metadata": {
    "jupyter": {
     "source_hidden": true
    }
   },
   "outputs": [
    {
     "data": {
      "application/vnd.jupyter.widget-view+json": {
       "model_id": "0d941260dcfc45d7a70e619aa9ba982a",
       "version_major": 2,
       "version_minor": 0
      },
      "text/plain": [
       "HBox(children=(FloatProgress(value=0.0, description='Dask Apply', max=12.0, style=ProgressStyle(description_wi…"
      ]
     },
     "metadata": {},
     "output_type": "display_data"
    },
    {
     "name": "stdout",
     "output_type": "stream",
     "text": [
      "\n"
     ]
    },
    {
     "data": {
      "application/vnd.jupyter.widget-view+json": {
       "model_id": "6ba2398978674eccba8b46b21f4386f1",
       "version_major": 2,
       "version_minor": 0
      },
      "text/plain": [
       "HBox(children=(FloatProgress(value=0.0, description='Pandas Apply', max=103617.0, style=ProgressStyle(descript…"
      ]
     },
     "metadata": {},
     "output_type": "display_data"
    },
    {
     "name": "stdout",
     "output_type": "stream",
     "text": [
      "\n"
     ]
    },
    {
     "data": {
      "application/vnd.jupyter.widget-view+json": {
       "model_id": "9acee97a92064b099a9fb1e3b5e1b72d",
       "version_major": 2,
       "version_minor": 0
      },
      "text/plain": [
       "HBox(children=(FloatProgress(value=0.0, description='Dask Apply', max=12.0, style=ProgressStyle(description_wi…"
      ]
     },
     "metadata": {},
     "output_type": "display_data"
    },
    {
     "name": "stdout",
     "output_type": "stream",
     "text": [
      "\n"
     ]
    },
    {
     "data": {
      "application/vnd.jupyter.widget-view+json": {
       "model_id": "99330d4cc6414dd9b02fd06b14ce57de",
       "version_major": 2,
       "version_minor": 0
      },
      "text/plain": [
       "HBox(children=(FloatProgress(value=0.0, description='Pandas Apply', max=10734207.0, style=ProgressStyle(descri…"
      ]
     },
     "metadata": {},
     "output_type": "display_data"
    },
    {
     "name": "stdout",
     "output_type": "stream",
     "text": [
      "\n"
     ]
    }
   ],
   "source": [
    "nrtmodis = get_state(nrtmodis)\n",
    "nrtviirs = get_state(nrtviirs)\n",
    "allmodis = get_state(allmodis)\n",
    "allviirs = get_state(allviirs)"
   ]
  },
  {
   "cell_type": "code",
   "execution_count": 8,
   "metadata": {},
   "outputs": [],
   "source": [
    "#call year_month function from Funktion_Definitions file\n",
    "allmodis = year_month(allmodis)\n",
    "allviirs = year_month(allviirs)\n",
    "nrtmodis = year_month(nrtmodis)\n",
    "nrtviirs = year_month(nrtviirs)"
   ]
  },
  {
   "cell_type": "code",
   "execution_count": 14,
   "metadata": {},
   "outputs": [],
   "source": [
    "#assining seasons (Winter=2, Summer=4, Spring=3, Autumn=1) to aquisition date\n",
    "allmodis['season'] = ((allmodis.Month+3)%12+3)//3\n",
    "allviirs['season'] = ((allviirs.Month+3)%12+3)//3\n",
    "nrtmodis['season'] = ((nrtmodis.Month+3)%12+3)//3\n",
    "nrtviirs['season'] = ((nrtviirs.Month+3)%12+3)//3"
   ]
  },
  {
   "cell_type": "code",
   "execution_count": 15,
   "metadata": {},
   "outputs": [
    {
     "data": {
      "text/plain": [
       "Index(['latitude', 'longitude', 'brightness', 'scan', 'track', 'acq_date',\n",
       "       'confidence', 'bright_t31', 'frp', 'State', 'Year', 'Month', 'season'],\n",
       "      dtype='object')"
      ]
     },
     "execution_count": 15,
     "metadata": {},
     "output_type": "execute_result"
    }
   ],
   "source": [
    "allmodis.keys()"
   ]
  },
  {
   "cell_type": "code",
   "execution_count": 16,
   "metadata": {},
   "outputs": [
    {
     "data": {
      "text/plain": [
       "0          1\n",
       "1          1\n",
       "2          1\n",
       "3          1\n",
       "4          1\n",
       "          ..\n",
       "5081215    2\n",
       "5081216    2\n",
       "5081217    2\n",
       "5081218    2\n",
       "5081219    2\n",
       "Name: season, Length: 5081220, dtype: int32"
      ]
     },
     "execution_count": 16,
     "metadata": {},
     "output_type": "execute_result"
    }
   ],
   "source": [
    "allmodis.season"
   ]
  },
  {
   "cell_type": "code",
   "execution_count": 17,
   "metadata": {},
   "outputs": [],
   "source": [
    "nrtmodis.to_csv(r'..\\Data\\Clean\\cnrt_M6.csv', index = False)\n",
    "nrtviirs.to_csv(r'..\\Data\\Clean\\cnrt_V1.csv', index = False)"
   ]
  },
  {
   "cell_type": "code",
   "execution_count": 18,
   "metadata": {},
   "outputs": [],
   "source": [
    "allmodis.to_csv(r'..\\Data\\Clean\\carchive_M6.csv', index = False)\n",
    "allviirs.to_csv(r'..\\Data\\Clean\\carchive_V1.csv', index = False)"
   ]
  }
 ],
 "metadata": {
  "kernelspec": {
   "display_name": "Python 3",
   "language": "python",
   "name": "python3"
  },
  "language_info": {
   "codemirror_mode": {
    "name": "ipython",
    "version": 3
   },
   "file_extension": ".py",
   "mimetype": "text/x-python",
   "name": "python",
   "nbconvert_exporter": "python",
   "pygments_lexer": "ipython3",
   "version": "3.7.6"
  }
 },
 "nbformat": 4,
 "nbformat_minor": 4
}
