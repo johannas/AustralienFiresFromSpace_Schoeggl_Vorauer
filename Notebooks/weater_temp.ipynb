{
 "cells": [
  {
   "cell_type": "code",
   "execution_count": 116,
   "metadata": {},
   "outputs": [],
   "source": [
    "import pandas as pd\n",
    "import numpy as np\n",
    "import reverse_geocoder as rg\n",
    "import matplotlib.pyplot as plt\n",
    "from geopy.extra.rate_limiter import RateLimiter "
   ]
  },
  {
   "cell_type": "code",
   "execution_count": 117,
   "metadata": {},
   "outputs": [],
   "source": [
    "weather = pd.read_csv(r'..\\Data\\Clean\\cweather.csv')"
   ]
  },
  {
   "cell_type": "code",
   "execution_count": 118,
   "metadata": {},
   "outputs": [],
   "source": [
    "def stringchange(df, column = 'Location'):\n",
    "    import re\n",
    "    result = []\n",
    "    for i in df[column]:\n",
    "        sep = ' '\n",
    "        result.append(sep.join(re.findall('[A-Z][^A-Z]*', i )))\n",
    "    df[column] = result\n",
    "    return df"
   ]
  },
  {
   "cell_type": "code",
   "execution_count": 119,
   "metadata": {},
   "outputs": [],
   "source": [
    "weather = stringchange(weather)\n",
    "weather = weather.replace({'Pearce R A A F': 'Pearce'})"
   ]
  },
  {
   "cell_type": "code",
   "execution_count": 120,
   "metadata": {},
   "outputs": [],
   "source": [
    "#weather column Locations an eigene variable übergeben\n",
    "weatherloc = weather.Location.unique()\n",
    "weatherloc = pd.DataFrame(weatherloc, columns=['Location']) "
   ]
  },
  {
   "cell_type": "code",
   "execution_count": null,
   "metadata": {},
   "outputs": [],
   "source": [
    "#weatherloc = stringchange(weatherloc)\n",
    "#weatherloc = weatherloc.replace({'Pearce R A A F': 'Pearce'})"
   ]
  },
  {
   "cell_type": "code",
   "execution_count": 122,
   "metadata": {},
   "outputs": [
    {
     "data": {
      "text/plain": [
       "True"
      ]
     },
     "execution_count": 122,
     "metadata": {},
     "output_type": "execute_result"
    }
   ],
   "source": [
    "np.all(weather.Location.unique() == weatherloc.Location.unique())"
   ]
  },
  {
   "cell_type": "code",
   "execution_count": 123,
   "metadata": {},
   "outputs": [],
   "source": [
    "#applying geocoordinates to locations\n",
    "from geopy.extra.rate_limiter import RateLimiter\n",
    "from geopy.geocoders import Nominatim\n",
    "gc = Nominatim(user_agent=\"fintu-blog-geocoding-python\")\n",
    "\n",
    "def rate_limited_geocode(query):\n",
    "    geocode = RateLimiter(gc.geocode, min_delay_seconds=1)\n",
    "    return geocode(query)\n",
    "#geocode der 2ten funktion ist eine andere variable\n",
    "def geocodeb(row):\n",
    "    lookup_query = row[\"Location\"] + \", \" + \"Australia\"\n",
    "    lookup_result = rate_limited_geocode(lookup_query)\n",
    "    return lookup_result\n",
    "weatherloc[\"loctemp\"] = weatherloc.apply(geocodeb, axis=1)"
   ]
  },
  {
   "cell_type": "code",
   "execution_count": 125,
   "metadata": {},
   "outputs": [
    {
     "data": {
      "text/plain": [
       "Location    0\n",
       "loctemp     0\n",
       "dtype: int64"
      ]
     },
     "execution_count": 125,
     "metadata": {},
     "output_type": "execute_result"
    }
   ],
   "source": [
    "# making sure that it finds values to all locations\n",
    "weatherloc.isna().sum()"
   ]
  },
  {
   "cell_type": "code",
   "execution_count": 126,
   "metadata": {},
   "outputs": [],
   "source": [
    "tempbla = [i [1] for i in weatherloc.loctemp]\n",
    "weatherloc['latitude'] , weatherloc['longitude'] = np.array(tempbla).T\n",
    "weatherloc = weatherloc.drop(['loctemp'],1)"
   ]
  },
  {
   "cell_type": "code",
   "execution_count": 127,
   "metadata": {},
   "outputs": [],
   "source": [
    "def reverse_filling(df1, df2):\n",
    "    templatitude = np.zeros(df1.shape[0])\n",
    "    templongitude = np.zeros(df1.shape[0])\n",
    "    for i in df1.Location.unique():\n",
    "        templatitude[df1.Location == i] = df2[df2.Location==i].latitude\n",
    "        templongitude[df1.Location == i] = df2[df2.Location==i].longitude\n",
    "    df1['latitude'] = templatitude\n",
    "    df1['longitude'] = templongitude\n",
    "    return df1"
   ]
  },
  {
   "cell_type": "code",
   "execution_count": 128,
   "metadata": {},
   "outputs": [],
   "source": [
    "bla = reverse_filling(weather, weatherloc)"
   ]
  },
  {
   "cell_type": "code",
   "execution_count": 131,
   "metadata": {},
   "outputs": [
    {
     "data": {
      "text/plain": [
       "0        -36.080477\n",
       "1        -36.080477\n",
       "2        -36.080477\n",
       "3        -36.080477\n",
       "4        -36.080477\n",
       "            ...    \n",
       "142188   -25.345554\n",
       "142189   -25.345554\n",
       "142190   -25.345554\n",
       "142191   -25.345554\n",
       "142192   -25.345554\n",
       "Name: latitude, Length: 142193, dtype: float64"
      ]
     },
     "execution_count": 131,
     "metadata": {},
     "output_type": "execute_result"
    }
   ],
   "source": [
    "bla.latitude"
   ]
  }
 ],
 "metadata": {
  "kernelspec": {
   "display_name": "Python 3",
   "language": "python",
   "name": "python3"
  },
  "language_info": {
   "codemirror_mode": {
    "name": "ipython",
    "version": 3
   },
   "file_extension": ".py",
   "mimetype": "text/x-python",
   "name": "python",
   "nbconvert_exporter": "python",
   "pygments_lexer": "ipython3",
   "version": "3.6.5"
  }
 },
 "nbformat": 4,
 "nbformat_minor": 4
}
