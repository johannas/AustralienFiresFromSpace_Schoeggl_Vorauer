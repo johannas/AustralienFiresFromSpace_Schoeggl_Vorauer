{
 "cells": [
  {
   "cell_type": "markdown",
   "metadata": {},
   "source": [
    "## Fires Cleaning Notebook ##"
   ]
  },
  {
   "cell_type": "markdown",
   "metadata": {},
   "source": [
    "Schoeggl_Vorauer 2020"
   ]
  },
  {
   "cell_type": "markdown",
   "metadata": {},
   "source": [
    "cleaning firedata\n",
    "\n",
    "DatasetLink: "
   ]
  },
  {
   "cell_type": "code",
   "execution_count": 9,
   "metadata": {},
   "outputs": [],
   "source": [
    "from Function_Definitions import *\n",
    "import pandas as pd\n",
    "import numpy as np\n",
    "import reverse_geocoder as rg\n",
    "import matplotlib.pyplot as plt\n",
    "from geopy.extra.rate_limiter import RateLimiter \n",
    "import swifter # swifter is for multiprocessing pandas apply functions"
   ]
  },
  {
   "cell_type": "code",
   "execution_count": 10,
   "metadata": {},
   "outputs": [],
   "source": [
    "allmodis = pd.read_csv(r'..\\Data\\Raw\\archive_M6.csv').drop(['acq_time', 'satellite', 'instrument', 'version', 'daynight', 'type'], 1)\n",
    "allviirs = pd.read_csv(r'..\\Data\\Raw\\archive_V1.csv').drop(['acq_time', 'satellite', 'instrument', 'version', 'type'], 1)"
   ]
  },
  {
   "cell_type": "code",
   "execution_count": 11,
   "metadata": {},
   "outputs": [],
   "source": [
    "nrtmodis = pd.read_csv(r'..\\Data\\Raw\\nrt_M6.csv').drop(['acq_time', 'satellite', 'instrument', 'version', 'daynight'], 1)\n",
    "nrtviirs = pd.read_csv(r'..\\Data\\Raw\\nrt_V1.csv').drop(['acq_time', 'satellite', 'instrument', 'version', 'daynight'], 1)"
   ]
  },
  {
   "cell_type": "code",
   "execution_count": 12,
   "metadata": {},
   "outputs": [],
   "source": [
    "allmodis = datetime(allmodis)\n",
    "allviirs = datetime(allviirs)\n",
    "nrtmodis = datetime(nrtmodis)\n",
    "nrtviirs = datetime(nrtviirs)"
   ]
  },
  {
   "cell_type": "code",
   "execution_count": null,
   "metadata": {
    "jupyter": {
     "source_hidden": true
    }
   },
   "outputs": [],
   "source": [
    "nrtmodis = get_state(nrtmodis)\n",
    "nrtviirs = get_state(nrtviirs)\n",
    "allmodis = get_state(allmodis)\n",
    "allviirs = get_state(allviirs)"
   ]
  },
  {
   "cell_type": "code",
   "execution_count": 19,
   "metadata": {},
   "outputs": [],
   "source": [
    "allmodis = year_month(allmodis)\n",
    "allviirs = year_month(allviirs)\n",
    "nrtmodis = year_month(nrtmodis)\n",
    "nrtviirs = year_month(nrtviirs)"
   ]
  },
  {
   "cell_type": "code",
   "execution_count": 23,
   "metadata": {},
   "outputs": [],
   "source": [
    "allmodis['season'] = (allmodis.Month%12 + 3)//3"
   ]
  },
  {
   "cell_type": "code",
   "execution_count": 24,
   "metadata": {},
   "outputs": [
    {
     "data": {
      "text/plain": [
       "Index(['latitude', 'longitude', 'brightness', 'scan', 'track', 'acq_date',\n",
       "       'confidence', 'bright_t31', 'frp', 'State', 'Year', 'Month', 'season'],\n",
       "      dtype='object')"
      ]
     },
     "execution_count": 24,
     "metadata": {},
     "output_type": "execute_result"
    }
   ],
   "source": [
    "allmodis.keys()"
   ]
  },
  {
   "cell_type": "code",
   "execution_count": 26,
   "metadata": {},
   "outputs": [
    {
     "data": {
      "text/plain": [
       "0          4\n",
       "1          4\n",
       "2          4\n",
       "3          4\n",
       "4          4\n",
       "          ..\n",
       "5081215    1\n",
       "5081216    1\n",
       "5081217    1\n",
       "5081218    1\n",
       "5081219    1\n",
       "Name: season, Length: 5081220, dtype: int32"
      ]
     },
     "execution_count": 26,
     "metadata": {},
     "output_type": "execute_result"
    }
   ],
   "source": [
    "allmodis.season"
   ]
  },
  {
   "cell_type": "code",
   "execution_count": null,
   "metadata": {},
   "outputs": [],
   "source": [
    "nrtmodis.to_csv(r'..\\Data\\Clean\\cnrt_M6.csv', index = False)\n",
    "nrtviirs.to_csv(r'..\\Data\\Clean\\cnrt_V1.csv', index = False)"
   ]
  },
  {
   "cell_type": "code",
   "execution_count": null,
   "metadata": {},
   "outputs": [],
   "source": [
    "allmodis.to_csv(r'..\\Data\\Clean\\carchive_M6.csv', index = False)\n",
    "allviirs.to_csv(r'..\\Data\\Clean\\carchive_V1.csv', index = False)"
   ]
  }
 ],
 "metadata": {
  "kernelspec": {
   "display_name": "Python 3",
   "language": "python",
   "name": "python3"
  },
  "language_info": {
   "codemirror_mode": {
    "name": "ipython",
    "version": 3
   },
   "file_extension": ".py",
   "mimetype": "text/x-python",
   "name": "python",
   "nbconvert_exporter": "python",
   "pygments_lexer": "ipython3",
   "version": "3.7.6"
  }
 },
 "nbformat": 4,
 "nbformat_minor": 4
}
