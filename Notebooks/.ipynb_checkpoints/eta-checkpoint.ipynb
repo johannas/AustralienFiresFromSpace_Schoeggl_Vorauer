{
 "cells": [
  {
   "cell_type": "code",
   "execution_count": 10,
   "metadata": {},
   "outputs": [],
   "source": [
    "import pandas as pd\n",
    "import numpy as np"
   ]
  },
  {
   "cell_type": "code",
   "execution_count": 33,
   "metadata": {},
   "outputs": [],
   "source": [
    "m6 = pd.read_csv(r'..\\Data\\Clean\\carchive_M6.csv')\n",
    "rain = pd.read_csv(r'..\\Data\\Clean\\rain.csv')\n",
    "wind = pd.read_csv(r'..\\Data\\Clean\\wind.csv')"
   ]
  },
  {
   "cell_type": "code",
   "execution_count": 17,
   "metadata": {},
   "outputs": [],
   "source": [
    "m6['acq_date'] = pd.to_datetime(m6['acq_date'])"
   ]
  },
  {
   "cell_type": "code",
   "execution_count": 18,
   "metadata": {
    "collapsed": true,
    "jupyter": {
     "outputs_hidden": true
    }
   },
   "outputs": [
    {
     "data": {
      "text/plain": [
       "0         2000-11-01\n",
       "1         2000-11-01\n",
       "2         2000-11-01\n",
       "3         2000-11-01\n",
       "4         2000-11-01\n",
       "             ...    \n",
       "5081215   2019-12-31\n",
       "5081216   2019-12-31\n",
       "5081217   2019-12-31\n",
       "5081218   2019-12-31\n",
       "5081219   2019-12-31\n",
       "Name: acq_date, Length: 5081220, dtype: datetime64[ns]"
      ]
     },
     "execution_count": 18,
     "metadata": {},
     "output_type": "execute_result"
    }
   ],
   "source": [
    "m6.acq_date"
   ]
  },
  {
   "cell_type": "code",
   "execution_count": 12,
   "metadata": {
    "collapsed": true,
    "jupyter": {
     "outputs_hidden": true
    }
   },
   "outputs": [
    {
     "data": {
      "text/plain": [
       "Index(['Rain ID', 'Date/Time', 'Nearest town', 'State', 'Latitude',\n",
       "       'Longitude', 'Intense precipitation amount',\n",
       "       'Intense precipitation period', 'Total precipitation',\n",
       "       'Total precipitation duration', 'Insurance payout'],\n",
       "      dtype='object')"
      ]
     },
     "execution_count": 12,
     "metadata": {},
     "output_type": "execute_result"
    }
   ],
   "source": [
    "rain.keys()"
   ]
  },
  {
   "cell_type": "code",
   "execution_count": 19,
   "metadata": {},
   "outputs": [],
   "source": [
    "rain['Date/Time'] = pd.to_datetime(rain['Date/Time'])"
   ]
  },
  {
   "cell_type": "code",
   "execution_count": 20,
   "metadata": {
    "collapsed": true,
    "jupyter": {
     "outputs_hidden": true
    }
   },
   "outputs": [
    {
     "data": {
      "text/plain": [
       "0      2006-01-06 05:05:00\n",
       "1      2006-01-07 01:00:00\n",
       "2      2006-01-12 05:15:00\n",
       "3      2006-01-15 05:20:00\n",
       "4      2006-01-15 21:54:00\n",
       "               ...        \n",
       "3461   2018-12-16 06:45:00\n",
       "3462   2018-12-21 06:00:00\n",
       "3463   2019-04-05 15:00:00\n",
       "3464   2019-05-01 00:00:00\n",
       "3465   2009-01-23 05:00:00\n",
       "Name: Date/Time, Length: 3466, dtype: datetime64[ns]"
      ]
     },
     "execution_count": 20,
     "metadata": {},
     "output_type": "execute_result"
    }
   ],
   "source": [
    "rain['Date/Time']"
   ]
  },
  {
   "cell_type": "code",
   "execution_count": 27,
   "metadata": {},
   "outputs": [],
   "source": [
    "a = rain['Date/Time'][0]\n"
   ]
  },
  {
   "cell_type": "code",
   "execution_count": 21,
   "metadata": {},
   "outputs": [],
   "source": [
    "wind['Date/Time'] = pd.to_datetime(wind['Date/Time'])"
   ]
  },
  {
   "cell_type": "code",
   "execution_count": 22,
   "metadata": {
    "collapsed": true,
    "jupyter": {
     "outputs_hidden": true
    }
   },
   "outputs": [
    {
     "data": {
      "text/plain": [
       "0      2006-01-01 03:32:00\n",
       "1      2006-01-01 04:44:00\n",
       "2      2006-01-01 05:16:00\n",
       "3      2006-01-06 04:30:00\n",
       "4      2006-01-06 08:45:00\n",
       "               ...        \n",
       "2828   2019-04-09 05:05:00\n",
       "2829   2016-11-21 09:00:00\n",
       "2830   2019-03-24 14:00:00\n",
       "2831   2019-04-05 12:00:00\n",
       "2832   2019-10-19 08:24:00\n",
       "Name: Date/Time, Length: 2833, dtype: datetime64[ns]"
      ]
     },
     "execution_count": 22,
     "metadata": {},
     "output_type": "execute_result"
    }
   ],
   "source": [
    "wind['Date/Time']"
   ]
  },
  {
   "cell_type": "code",
   "execution_count": null,
   "metadata": {},
   "outputs": [],
   "source": []
  }
 ],
 "metadata": {
  "kernelspec": {
   "display_name": "Python 3",
   "language": "python",
   "name": "python3"
  },
  "language_info": {
   "codemirror_mode": {
    "name": "ipython",
    "version": 3
   },
   "file_extension": ".py",
   "mimetype": "text/x-python",
   "name": "python",
   "nbconvert_exporter": "python",
   "pygments_lexer": "ipython3",
   "version": "3.6.5"
  }
 },
 "nbformat": 4,
 "nbformat_minor": 4
}
