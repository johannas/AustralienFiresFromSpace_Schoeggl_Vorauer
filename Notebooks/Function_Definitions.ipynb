{
 "cells": [
  {
   "cell_type": "markdown",
   "metadata": {},
   "source": [
    "### Function Definitions//All Functions and Librarys Used For Project ###"
   ]
  },
  {
   "cell_type": "code",
   "execution_count": 1,
   "metadata": {},
   "outputs": [],
   "source": [
    "import pandas as pd\n",
    "import numpy as np\n",
    "from geopy.extra.rate_limiter import RateLimiter\n",
    "from geopy.geocoders import Nominatim\n",
    "import swifter # swifter is for multiprocessing pandas apply functions"
   ]
  },
  {
   "cell_type": "code",
   "execution_count": null,
   "metadata": {},
   "outputs": [],
   "source": [
    "def datetime(df):\n",
    "    '''spalte acq_date als Datetime auszeichnen'''\n",
    "    df['acq_date'] = pd.to_datetime(df['acq_date'])\n",
    "    return df "
   ]
  },
  {
   "cell_type": "code",
   "execution_count": 2,
   "metadata": {},
   "outputs": [],
   "source": [
    "def timeselect(df, freq = 'D', fct = 'mean', columns = ['frp','brightness', 'bright_t31']):\n",
    "    df['acq_date'] = pd.to_datetime(df['acq_date'])-pd.to_timedelta(7, unit='d')\n",
    "    if fct == 'mean': out = df.groupby([pd.Grouper(key='acq_date', freq=freq)])[columns].mean().reset_index().sort_values('acq_date')\n",
    "    if fct == 'max':  out = df.groupby([pd.Grouper(key='acq_date', freq=freq)])[columns].max().reset_index().sort_values('acq_date')\n",
    "    if fct == 'min':  out = df.groupby([pd.Grouper(key='acq_date', freq=freq)])[columns].min().reset_index().sort_values('acq_date')\n",
    "    return out"
   ]
  },
  {
   "cell_type": "code",
   "execution_count": 3,
   "metadata": {},
   "outputs": [],
   "source": [
    "def date_separating(df, sel): \n",
    "    '''splits dataframes into weeks, months, years'''\n",
    "    out = []\n",
    "    if 'D' in sel:\n",
    "        out.append([g.reset_index() for n, g in df.set_index('acq_date').groupby(pd.Grouper(freq = 'D'))])\n",
    "    if 'W' in sel:\n",
    "        out.append([g.reset_index() for n, g in df.set_index('acq_date').groupby(pd.Grouper(freq = 'W'))])\n",
    "    if 'M' in sel:\n",
    "        out.append([g.reset_index() for n, g in df.set_index('acq_date').groupby(pd.Grouper(freq = 'M'))])\n",
    "    if 'Y' in sel:\n",
    "        out.append([g.reset_index() for n, g in df.set_index('acq_date').groupby(pd.Grouper(freq = 'Y'))])\n",
    "    return out "
   ]
  },
  {
   "cell_type": "code",
   "execution_count": 4,
   "metadata": {},
   "outputs": [],
   "source": [
    "def get_state(df):\n",
    "    def conds(row):\n",
    "        x, y = row['latitude'], row['longitude']\n",
    "        a = np.array([[141,150],[1,1]])\n",
    "        b = np.array([-34,-37.5])\n",
    "        (k,d) = np.linalg.solve(a,b)\n",
    "\n",
    "        if y < -129:\n",
    "            return 'WA'\n",
    "        if (x > -26) & (129 <= y < 138):\n",
    "            return 'NT'\n",
    "        if (x <= -26) & (129 <= y < 141):\n",
    "            return 'SA'\n",
    "        if (x > -26) & (138 <= y < 141):\n",
    "            return 'QLD'\n",
    "        if (x > -29) & (141 >= y):\n",
    "            return 'QLD'\n",
    "        if (-34 < x <= -29) & (y >= 141):\n",
    "            return 'NSW'\n",
    "        if (x+k*y > d) & (y >= 141):\n",
    "            return 'NSW'\n",
    "        if (x+k*y <= d) & (y >= 141):\n",
    "            return 'VIC'\n",
    "        if (-39.2 <= x < 37.5) & (y >= 141):\n",
    "            return 'VIC'\n",
    "        return 'TAS'\n",
    "    df['State'] = df.swifter.apply(conds, axis=1)\n",
    "    return df"
   ]
  },
  {
   "cell_type": "code",
   "execution_count": 5,
   "metadata": {},
   "outputs": [],
   "source": [
    "def stringchange(df, column = 'Location'):\n",
    "    \n",
    "    result = []\n",
    "    for i in df[column]:\n",
    "        sep = ' '\n",
    "        result.append(sep.join(re.findall('[A-Z][^A-Z]*', i )))\n",
    "    df[column] = result\n",
    "    return df"
   ]
  },
  {
   "cell_type": "code",
   "execution_count": 9,
   "metadata": {},
   "outputs": [],
   "source": [
    "def geolookup(row):\n",
    "    gc = Nominatim(user_agent=\"fintu-blog-geocoding-python\")\n",
    "    #applying geocoordinates to locations\n",
    "    def rate_limited_geocode(query):\n",
    "        geocode = RateLimiter(gc.geocode, min_delay_seconds=1)\n",
    "        return geocode(query)\n",
    "    #geocode der 2ten funktion ist eine andere variable\n",
    "    def geocodeb(row):\n",
    "        lookup_query = row[\"Location\"] + \", \" + \"Australia\"\n",
    "        lookup_result = rate_limited_geocode(lookup_query)\n",
    "        return lookup_result\n",
    "    return geocodeb(row)\n",
    "#test: weatherloc[\"loctemp\"] = weatherloc.apply(geocodeb, axis=1)"
   ]
  },
  {
   "cell_type": "code",
   "execution_count": 7,
   "metadata": {},
   "outputs": [],
   "source": [
    "'''filling funktion for longitude, latitude into correct rows'''\n",
    "def reverse_filling(df1, df2):\n",
    "    templatitude = np.zeros(df1.shape[0])\n",
    "    templongitude = np.zeros(df1.shape[0])\n",
    "    for i in df1.Location.unique():\n",
    "        templatitude[df1.Location == i] = df2[df2.Location==i].latitude\n",
    "        templongitude[df1.Location == i] = df2[df2.Location==i].longitude\n",
    "    df1['latitude'] = templatitude\n",
    "    df1['longitude'] = templongitude\n",
    "    return df1"
   ]
  },
  {
   "cell_type": "code",
   "execution_count": 8,
   "metadata": {},
   "outputs": [],
   "source": [
    "def year_month(df):\n",
    "    year = np.array([(d.year, d.month) for d in df['acq_date']])\n",
    "    df['Year'],df['Month'] = year.T \n",
    "    return df"
   ]
  },
  {
   "cell_type": "code",
   "execution_count": null,
   "metadata": {},
   "outputs": [],
   "source": []
  }
 ],
 "metadata": {
  "kernelspec": {
   "display_name": "Python 3",
   "language": "python",
   "name": "python3"
  },
  "language_info": {
   "codemirror_mode": {
    "name": "ipython",
    "version": 3
   },
   "file_extension": ".py",
   "mimetype": "text/x-python",
   "name": "python",
   "nbconvert_exporter": "python",
   "pygments_lexer": "ipython3",
   "version": "3.6.5"
  }
 },
 "nbformat": 4,
 "nbformat_minor": 4
}
