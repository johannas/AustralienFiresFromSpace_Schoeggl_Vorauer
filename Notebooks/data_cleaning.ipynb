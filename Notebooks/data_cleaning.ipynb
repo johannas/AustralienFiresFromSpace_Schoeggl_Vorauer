{
 "cells": [
  {
   "cell_type": "code",
   "execution_count": 1,
   "metadata": {},
   "outputs": [],
   "source": [
    "import pandas as pd"
   ]
  },
  {
   "cell_type": "code",
   "execution_count": null,
   "metadata": {},
   "outputs": [],
   "source": []
  },
  {
   "cell_type": "code",
   "execution_count": 8,
   "metadata": {},
   "outputs": [],
   "source": [
    "allmodis = pd.read_csv(r'..\\Data\\Raw\\archive_M6.csv').drop(['acq_time', 'satellite', 'instrument', 'version', 'daynight', 'type'], 1)\n",
    "allviirs = pd.read_csv(r'..\\Data\\Raw\\archive_V1.csv').drop(['acq_time', 'satellite', 'instrument', 'version', 'type'], 1)"
   ]
  },
  {
   "cell_type": "code",
   "execution_count": 9,
   "metadata": {},
   "outputs": [
    {
     "data": {
      "text/html": [
       "<div>\n",
       "<style scoped>\n",
       "    .dataframe tbody tr th:only-of-type {\n",
       "        vertical-align: middle;\n",
       "    }\n",
       "\n",
       "    .dataframe tbody tr th {\n",
       "        vertical-align: top;\n",
       "    }\n",
       "\n",
       "    .dataframe thead th {\n",
       "        text-align: right;\n",
       "    }\n",
       "</style>\n",
       "<table border=\"1\" class=\"dataframe\">\n",
       "  <thead>\n",
       "    <tr style=\"text-align: right;\">\n",
       "      <th></th>\n",
       "      <th>latitude</th>\n",
       "      <th>longitude</th>\n",
       "      <th>brightness</th>\n",
       "      <th>scan</th>\n",
       "      <th>track</th>\n",
       "      <th>acq_date</th>\n",
       "      <th>confidence</th>\n",
       "      <th>bright_t31</th>\n",
       "      <th>frp</th>\n",
       "    </tr>\n",
       "  </thead>\n",
       "  <tbody>\n",
       "    <tr>\n",
       "      <th>0</th>\n",
       "      <td>-16.4439</td>\n",
       "      <td>143.5076</td>\n",
       "      <td>319.9</td>\n",
       "      <td>4.5</td>\n",
       "      <td>2.0</td>\n",
       "      <td>2000-11-01</td>\n",
       "      <td>59</td>\n",
       "      <td>300.6</td>\n",
       "      <td>62.8</td>\n",
       "    </tr>\n",
       "    <tr>\n",
       "      <th>1</th>\n",
       "      <td>-16.4447</td>\n",
       "      <td>143.5152</td>\n",
       "      <td>321.0</td>\n",
       "      <td>4.5</td>\n",
       "      <td>2.0</td>\n",
       "      <td>2000-11-01</td>\n",
       "      <td>62</td>\n",
       "      <td>300.5</td>\n",
       "      <td>71.6</td>\n",
       "    </tr>\n",
       "    <tr>\n",
       "      <th>2</th>\n",
       "      <td>-18.4459</td>\n",
       "      <td>144.8904</td>\n",
       "      <td>324.6</td>\n",
       "      <td>3.2</td>\n",
       "      <td>1.7</td>\n",
       "      <td>2000-11-01</td>\n",
       "      <td>74</td>\n",
       "      <td>303.1</td>\n",
       "      <td>77.4</td>\n",
       "    </tr>\n",
       "    <tr>\n",
       "      <th>3</th>\n",
       "      <td>-18.4401</td>\n",
       "      <td>144.8603</td>\n",
       "      <td>317.7</td>\n",
       "      <td>3.3</td>\n",
       "      <td>1.7</td>\n",
       "      <td>2000-11-01</td>\n",
       "      <td>61</td>\n",
       "      <td>303.2</td>\n",
       "      <td>38.5</td>\n",
       "    </tr>\n",
       "    <tr>\n",
       "      <th>4</th>\n",
       "      <td>-18.6804</td>\n",
       "      <td>145.5470</td>\n",
       "      <td>317.3</td>\n",
       "      <td>2.9</td>\n",
       "      <td>1.6</td>\n",
       "      <td>2000-11-01</td>\n",
       "      <td>54</td>\n",
       "      <td>299.4</td>\n",
       "      <td>32.8</td>\n",
       "    </tr>\n",
       "  </tbody>\n",
       "</table>\n",
       "</div>"
      ],
      "text/plain": [
       "   latitude  longitude  brightness  scan  track    acq_date  confidence  \\\n",
       "0  -16.4439   143.5076       319.9   4.5    2.0  2000-11-01          59   \n",
       "1  -16.4447   143.5152       321.0   4.5    2.0  2000-11-01          62   \n",
       "2  -18.4459   144.8904       324.6   3.2    1.7  2000-11-01          74   \n",
       "3  -18.4401   144.8603       317.7   3.3    1.7  2000-11-01          61   \n",
       "4  -18.6804   145.5470       317.3   2.9    1.6  2000-11-01          54   \n",
       "\n",
       "   bright_t31   frp  \n",
       "0       300.6  62.8  \n",
       "1       300.5  71.6  \n",
       "2       303.1  77.4  \n",
       "3       303.2  38.5  \n",
       "4       299.4  32.8  "
      ]
     },
     "execution_count": 9,
     "metadata": {},
     "output_type": "execute_result"
    }
   ],
   "source": [
    "allmodis.head()"
   ]
  },
  {
   "cell_type": "code",
   "execution_count": null,
   "metadata": {},
   "outputs": [],
   "source": []
  }
 ],
 "metadata": {
  "kernelspec": {
   "display_name": "Python 3",
   "language": "python",
   "name": "python3"
  },
  "language_info": {
   "codemirror_mode": {
    "name": "ipython",
    "version": 3
   },
   "file_extension": ".py",
   "mimetype": "text/x-python",
   "name": "python",
   "nbconvert_exporter": "python",
   "pygments_lexer": "ipython3",
   "version": "3.6.10"
  }
 },
 "nbformat": 4,
 "nbformat_minor": 4
}
